{
  "nbformat": 4,
  "nbformat_minor": 0,
  "metadata": {
    "colab": {
      "name": "Olympics_data_analysis.ipynb",
      "provenance": []
    },
    "kernelspec": {
      "name": "python3",
      "display_name": "Python 3"
    },
    "language_info": {
      "name": "python"
    }
  },
  "cells": [
    {
      "cell_type": "markdown",
      "metadata": {
        "id": "eL93MbecWRHl"
      },
      "source": [
        "##**Summer olympics data analysis**"
      ]
    },
    {
      "cell_type": "code",
      "metadata": {
        "colab": {
          "base_uri": "https://localhost:8080/",
          "height": 419
        },
        "id": "0QjjXF63SqvC",
        "outputId": "6804c0e4-00d4-4134-924c-dd48305277cb"
      },
      "source": [
        "import pandas as pd\n",
        "df = pd.read_csv(\"summer_olympics.csv\")\n",
        "df"
      ],
      "execution_count": 2,
      "outputs": [
        {
          "output_type": "execute_result",
          "data": {
            "text/html": [
              "<div>\n",
              "<style scoped>\n",
              "    .dataframe tbody tr th:only-of-type {\n",
              "        vertical-align: middle;\n",
              "    }\n",
              "\n",
              "    .dataframe tbody tr th {\n",
              "        vertical-align: top;\n",
              "    }\n",
              "\n",
              "    .dataframe thead th {\n",
              "        text-align: right;\n",
              "    }\n",
              "</style>\n",
              "<table border=\"1\" class=\"dataframe\">\n",
              "  <thead>\n",
              "    <tr style=\"text-align: right;\">\n",
              "      <th></th>\n",
              "      <th>Year</th>\n",
              "      <th>City</th>\n",
              "      <th>Sport</th>\n",
              "      <th>Discipline</th>\n",
              "      <th>Athlete</th>\n",
              "      <th>Country</th>\n",
              "      <th>Gender</th>\n",
              "      <th>Event</th>\n",
              "      <th>Medal</th>\n",
              "    </tr>\n",
              "  </thead>\n",
              "  <tbody>\n",
              "    <tr>\n",
              "      <th>0</th>\n",
              "      <td>1896</td>\n",
              "      <td>Athens</td>\n",
              "      <td>Aquatics</td>\n",
              "      <td>Swimming</td>\n",
              "      <td>HAJOS, Alfred</td>\n",
              "      <td>HUN</td>\n",
              "      <td>Men</td>\n",
              "      <td>100M Freestyle</td>\n",
              "      <td>Gold</td>\n",
              "    </tr>\n",
              "    <tr>\n",
              "      <th>1</th>\n",
              "      <td>1896</td>\n",
              "      <td>Athens</td>\n",
              "      <td>Aquatics</td>\n",
              "      <td>Swimming</td>\n",
              "      <td>HERSCHMANN, Otto</td>\n",
              "      <td>AUT</td>\n",
              "      <td>Men</td>\n",
              "      <td>100M Freestyle</td>\n",
              "      <td>Silver</td>\n",
              "    </tr>\n",
              "    <tr>\n",
              "      <th>2</th>\n",
              "      <td>1896</td>\n",
              "      <td>Athens</td>\n",
              "      <td>Aquatics</td>\n",
              "      <td>Swimming</td>\n",
              "      <td>DRIVAS, Dimitrios</td>\n",
              "      <td>GRE</td>\n",
              "      <td>Men</td>\n",
              "      <td>100M Freestyle For Sailors</td>\n",
              "      <td>Bronze</td>\n",
              "    </tr>\n",
              "    <tr>\n",
              "      <th>3</th>\n",
              "      <td>1896</td>\n",
              "      <td>Athens</td>\n",
              "      <td>Aquatics</td>\n",
              "      <td>Swimming</td>\n",
              "      <td>MALOKINIS, Ioannis</td>\n",
              "      <td>GRE</td>\n",
              "      <td>Men</td>\n",
              "      <td>100M Freestyle For Sailors</td>\n",
              "      <td>Gold</td>\n",
              "    </tr>\n",
              "    <tr>\n",
              "      <th>4</th>\n",
              "      <td>1896</td>\n",
              "      <td>Athens</td>\n",
              "      <td>Aquatics</td>\n",
              "      <td>Swimming</td>\n",
              "      <td>CHASAPIS, Spiridon</td>\n",
              "      <td>GRE</td>\n",
              "      <td>Men</td>\n",
              "      <td>100M Freestyle For Sailors</td>\n",
              "      <td>Silver</td>\n",
              "    </tr>\n",
              "    <tr>\n",
              "      <th>...</th>\n",
              "      <td>...</td>\n",
              "      <td>...</td>\n",
              "      <td>...</td>\n",
              "      <td>...</td>\n",
              "      <td>...</td>\n",
              "      <td>...</td>\n",
              "      <td>...</td>\n",
              "      <td>...</td>\n",
              "      <td>...</td>\n",
              "    </tr>\n",
              "    <tr>\n",
              "      <th>31160</th>\n",
              "      <td>2012</td>\n",
              "      <td>London</td>\n",
              "      <td>Wrestling</td>\n",
              "      <td>Wrestling Freestyle</td>\n",
              "      <td>JANIKOWSKI, Damian</td>\n",
              "      <td>POL</td>\n",
              "      <td>Men</td>\n",
              "      <td>Wg 84 KG</td>\n",
              "      <td>Bronze</td>\n",
              "    </tr>\n",
              "    <tr>\n",
              "      <th>31161</th>\n",
              "      <td>2012</td>\n",
              "      <td>London</td>\n",
              "      <td>Wrestling</td>\n",
              "      <td>Wrestling Freestyle</td>\n",
              "      <td>REZAEI, Ghasem Gholamreza</td>\n",
              "      <td>IRI</td>\n",
              "      <td>Men</td>\n",
              "      <td>Wg 96 KG</td>\n",
              "      <td>Gold</td>\n",
              "    </tr>\n",
              "    <tr>\n",
              "      <th>31162</th>\n",
              "      <td>2012</td>\n",
              "      <td>London</td>\n",
              "      <td>Wrestling</td>\n",
              "      <td>Wrestling Freestyle</td>\n",
              "      <td>TOTROV, Rustam</td>\n",
              "      <td>RUS</td>\n",
              "      <td>Men</td>\n",
              "      <td>Wg 96 KG</td>\n",
              "      <td>Silver</td>\n",
              "    </tr>\n",
              "    <tr>\n",
              "      <th>31163</th>\n",
              "      <td>2012</td>\n",
              "      <td>London</td>\n",
              "      <td>Wrestling</td>\n",
              "      <td>Wrestling Freestyle</td>\n",
              "      <td>ALEKSANYAN, Artur</td>\n",
              "      <td>ARM</td>\n",
              "      <td>Men</td>\n",
              "      <td>Wg 96 KG</td>\n",
              "      <td>Bronze</td>\n",
              "    </tr>\n",
              "    <tr>\n",
              "      <th>31164</th>\n",
              "      <td>2012</td>\n",
              "      <td>London</td>\n",
              "      <td>Wrestling</td>\n",
              "      <td>Wrestling Freestyle</td>\n",
              "      <td>LIDBERG, Jimmy</td>\n",
              "      <td>SWE</td>\n",
              "      <td>Men</td>\n",
              "      <td>Wg 96 KG</td>\n",
              "      <td>Bronze</td>\n",
              "    </tr>\n",
              "  </tbody>\n",
              "</table>\n",
              "<p>31165 rows × 9 columns</p>\n",
              "</div>"
            ],
            "text/plain": [
              "       Year    City      Sport  ... Gender                       Event   Medal\n",
              "0      1896  Athens   Aquatics  ...    Men              100M Freestyle    Gold\n",
              "1      1896  Athens   Aquatics  ...    Men              100M Freestyle  Silver\n",
              "2      1896  Athens   Aquatics  ...    Men  100M Freestyle For Sailors  Bronze\n",
              "3      1896  Athens   Aquatics  ...    Men  100M Freestyle For Sailors    Gold\n",
              "4      1896  Athens   Aquatics  ...    Men  100M Freestyle For Sailors  Silver\n",
              "...     ...     ...        ...  ...    ...                         ...     ...\n",
              "31160  2012  London  Wrestling  ...    Men                    Wg 84 KG  Bronze\n",
              "31161  2012  London  Wrestling  ...    Men                    Wg 96 KG    Gold\n",
              "31162  2012  London  Wrestling  ...    Men                    Wg 96 KG  Silver\n",
              "31163  2012  London  Wrestling  ...    Men                    Wg 96 KG  Bronze\n",
              "31164  2012  London  Wrestling  ...    Men                    Wg 96 KG  Bronze\n",
              "\n",
              "[31165 rows x 9 columns]"
            ]
          },
          "metadata": {},
          "execution_count": 2
        }
      ]
    },
    {
      "cell_type": "code",
      "metadata": {
        "colab": {
          "base_uri": "https://localhost:8080/",
          "height": 204
        },
        "id": "rbUOAmbPX2qh",
        "outputId": "71cffac6-51f2-417c-9bb9-d9a325dc1bcb"
      },
      "source": [
        "df.head()"
      ],
      "execution_count": 4,
      "outputs": [
        {
          "output_type": "execute_result",
          "data": {
            "text/html": [
              "<div>\n",
              "<style scoped>\n",
              "    .dataframe tbody tr th:only-of-type {\n",
              "        vertical-align: middle;\n",
              "    }\n",
              "\n",
              "    .dataframe tbody tr th {\n",
              "        vertical-align: top;\n",
              "    }\n",
              "\n",
              "    .dataframe thead th {\n",
              "        text-align: right;\n",
              "    }\n",
              "</style>\n",
              "<table border=\"1\" class=\"dataframe\">\n",
              "  <thead>\n",
              "    <tr style=\"text-align: right;\">\n",
              "      <th></th>\n",
              "      <th>Year</th>\n",
              "      <th>City</th>\n",
              "      <th>Sport</th>\n",
              "      <th>Discipline</th>\n",
              "      <th>Athlete</th>\n",
              "      <th>Country</th>\n",
              "      <th>Gender</th>\n",
              "      <th>Event</th>\n",
              "      <th>Medal</th>\n",
              "    </tr>\n",
              "  </thead>\n",
              "  <tbody>\n",
              "    <tr>\n",
              "      <th>0</th>\n",
              "      <td>1896</td>\n",
              "      <td>Athens</td>\n",
              "      <td>Aquatics</td>\n",
              "      <td>Swimming</td>\n",
              "      <td>HAJOS, Alfred</td>\n",
              "      <td>HUN</td>\n",
              "      <td>Men</td>\n",
              "      <td>100M Freestyle</td>\n",
              "      <td>Gold</td>\n",
              "    </tr>\n",
              "    <tr>\n",
              "      <th>1</th>\n",
              "      <td>1896</td>\n",
              "      <td>Athens</td>\n",
              "      <td>Aquatics</td>\n",
              "      <td>Swimming</td>\n",
              "      <td>HERSCHMANN, Otto</td>\n",
              "      <td>AUT</td>\n",
              "      <td>Men</td>\n",
              "      <td>100M Freestyle</td>\n",
              "      <td>Silver</td>\n",
              "    </tr>\n",
              "    <tr>\n",
              "      <th>2</th>\n",
              "      <td>1896</td>\n",
              "      <td>Athens</td>\n",
              "      <td>Aquatics</td>\n",
              "      <td>Swimming</td>\n",
              "      <td>DRIVAS, Dimitrios</td>\n",
              "      <td>GRE</td>\n",
              "      <td>Men</td>\n",
              "      <td>100M Freestyle For Sailors</td>\n",
              "      <td>Bronze</td>\n",
              "    </tr>\n",
              "    <tr>\n",
              "      <th>3</th>\n",
              "      <td>1896</td>\n",
              "      <td>Athens</td>\n",
              "      <td>Aquatics</td>\n",
              "      <td>Swimming</td>\n",
              "      <td>MALOKINIS, Ioannis</td>\n",
              "      <td>GRE</td>\n",
              "      <td>Men</td>\n",
              "      <td>100M Freestyle For Sailors</td>\n",
              "      <td>Gold</td>\n",
              "    </tr>\n",
              "    <tr>\n",
              "      <th>4</th>\n",
              "      <td>1896</td>\n",
              "      <td>Athens</td>\n",
              "      <td>Aquatics</td>\n",
              "      <td>Swimming</td>\n",
              "      <td>CHASAPIS, Spiridon</td>\n",
              "      <td>GRE</td>\n",
              "      <td>Men</td>\n",
              "      <td>100M Freestyle For Sailors</td>\n",
              "      <td>Silver</td>\n",
              "    </tr>\n",
              "  </tbody>\n",
              "</table>\n",
              "</div>"
            ],
            "text/plain": [
              "   Year    City     Sport  ... Gender                       Event   Medal\n",
              "0  1896  Athens  Aquatics  ...    Men              100M Freestyle    Gold\n",
              "1  1896  Athens  Aquatics  ...    Men              100M Freestyle  Silver\n",
              "2  1896  Athens  Aquatics  ...    Men  100M Freestyle For Sailors  Bronze\n",
              "3  1896  Athens  Aquatics  ...    Men  100M Freestyle For Sailors    Gold\n",
              "4  1896  Athens  Aquatics  ...    Men  100M Freestyle For Sailors  Silver\n",
              "\n",
              "[5 rows x 9 columns]"
            ]
          },
          "metadata": {},
          "execution_count": 4
        }
      ]
    },
    {
      "cell_type": "markdown",
      "metadata": {
        "id": "Dpk9OCWOYMiO"
      },
      "source": [
        "##**1. In how many cities Summer Olympics is held so far?**"
      ]
    },
    {
      "cell_type": "code",
      "metadata": {
        "colab": {
          "base_uri": "https://localhost:8080/"
        },
        "id": "TbKPc6f-X5P7",
        "outputId": "71e6d3e4-26e7-407c-fb96-e4fe9fa0b269"
      },
      "source": [
        "data = []\n",
        "for cities in df['City'].unique():\n",
        "  data.append(cities)\n",
        "\n",
        "length = str(len(data))\n",
        "print(\"-------------------------------------------------------------------------\")\n",
        "print(\"Summer Olympics is held in \"+ '\"' + length + '\"' + \" Cities so far.\" )\n",
        "print(\"-------------------------------------------------------------------------\")\n",
        "print(\"City Names are as follows : \\n\")\n",
        "data"
      ],
      "execution_count": 8,
      "outputs": [
        {
          "output_type": "stream",
          "name": "stdout",
          "text": [
            "-------------------------------------------------------------------------\n",
            "Summer Olympics is held in \"22\" Cities so far.\n",
            "-------------------------------------------------------------------------\n",
            "City Names are as follows : \n",
            "\n"
          ]
        },
        {
          "output_type": "execute_result",
          "data": {
            "text/plain": [
              "['Athens',\n",
              " 'Paris',\n",
              " 'St Louis',\n",
              " 'London',\n",
              " 'Stockholm',\n",
              " 'Antwerp',\n",
              " 'Amsterdam',\n",
              " 'Los Angeles',\n",
              " 'Berlin',\n",
              " 'Helsinki',\n",
              " 'Melbourne / Stockholm',\n",
              " 'Rome',\n",
              " 'Tokyo',\n",
              " 'Mexico',\n",
              " 'Munich',\n",
              " 'Montreal',\n",
              " 'Moscow',\n",
              " 'Seoul',\n",
              " 'Barcelona',\n",
              " 'Atlanta',\n",
              " 'Sydney',\n",
              " 'Beijing']"
            ]
          },
          "metadata": {},
          "execution_count": 8
        }
      ]
    },
    {
      "cell_type": "markdown",
      "metadata": {
        "id": "XOvWSbwPZQxE"
      },
      "source": [
        "##**2. Which sport is having most number of Gold Medals so far? (Top 5)**"
      ]
    },
    {
      "cell_type": "code",
      "metadata": {
        "colab": {
          "base_uri": "https://localhost:8080/",
          "height": 1000
        },
        "id": "1AIzH-IQYlTP",
        "outputId": "1cf4ea80-4a81-4f38-9e3d-935aa064c3ca"
      },
      "source": [
        "gold_medal = df[df['Medal'] == 'Gold']\n",
        "sports = []\n",
        "for sport in gold_medal['Sport'].unique():\n",
        "  sports.append([sport,len(gold_medal[gold_medal['Sport'] == sport])])\n",
        "\n",
        "sports = pd.DataFrame(sports,columns=['Sport','Gold_Medals'])\n",
        "sports = sports.sort_values(by ='Gold_Medals', ascending = False)\n",
        "print(\"-------------------------------------------------------------------------\")\n",
        "print(\"All the Sports with Total no. of Gold Medals they Won are as follows:\")\n",
        "print(\"-------------------------------------------------------------------------\\n\")\n",
        "print(sports)\n",
        "\n",
        "print(\"\\n-------------------------------------------------------------------------\")\n",
        "print(\" 'Aquatics' Sport is having most no. Gold Medals so far.\")\n",
        "print(\"-------------------------------------------------------------------------\")\n",
        "print(\"Sports with maximum no. of gold are :\\n \\n1] Aquatics   - 1421 \\n2] Athletics  - 1215  \\n3] Rowing     - 890 \\n4] Gymnastics - 820 \\n5] Fencing    - 552\")\n",
        "print(\"-------------------------------------------------------------------------\")\n",
        "print(\"Plot of Top 5 Sports having most no. of Gold Medals is as Follows:\")\n",
        "print(\"-------------------------------------------------------------------------\")\n",
        "sports = sports.sort_values(by ='Gold_Medals', ascending = False).head()\n",
        "sports.plot(x ='Sport',y ='Gold_Medals',kind = 'bar',figsize =(10,5),color = 'gold')"
      ],
      "execution_count": 12,
      "outputs": [
        {
          "output_type": "stream",
          "name": "stdout",
          "text": [
            "-------------------------------------------------------------------------\n",
            "All the Sports with Total no. of Gold Medals they Won are as follows:\n",
            "-------------------------------------------------------------------------\n",
            "\n",
            "                Sport  Gold_Medals\n",
            "0            Aquatics         1421\n",
            "1           Athletics         1215\n",
            "17             Rowing          890\n",
            "4          Gymnastics          820\n",
            "3             Fencing          552\n",
            "14           Football          503\n",
            "24             Hockey          486\n",
            "19            Sailing          412\n",
            "8           Wrestling          391\n",
            "5            Shooting          384\n",
            "2             Cycling          371\n",
            "31         Basketball          342\n",
            "32      Canoe / Kayak          334\n",
            "35         Volleyball          332\n",
            "33           Handball          321\n",
            "13         Equestrian          320\n",
            "21             Boxing          239\n",
            "7       Weightlifting          200\n",
            "9             Archery          126\n",
            "34               Judo          123\n",
            "38           Baseball          111\n",
            "6              Tennis           92\n",
            "18              Rugby           78\n",
            "39           Softball           60\n",
            "29  Modern Pentathlon           60\n",
            "37          Badminton           46\n",
            "36       Table Tennis           46\n",
            "20         Tug of War           36\n",
            "40          Taekwondo           32\n",
            "22           Lacrosse           28\n",
            "42              Canoe           27\n",
            "16               Polo           22\n",
            "15               Golf           13\n",
            "11            Cricket           12\n",
            "27            Skating            9\n",
            "41          Triathlon            8\n",
            "30         Ice Hockey            8\n",
            "28  Water Motorsports            5\n",
            "12            Croquet            4\n",
            "26            Rackets            3\n",
            "10      Basque Pelota            2\n",
            "25       Jeu de paume            1\n",
            "23              Roque            1\n",
            "\n",
            "-------------------------------------------------------------------------\n",
            " 'Aquatics' Sport is having most no. Gold Medals so far.\n",
            "-------------------------------------------------------------------------\n",
            "Sports with maximum no. of gold are :\n",
            " \n",
            "1] Aquatics   - 1421 \n",
            "2] Athletics  - 1215  \n",
            "3] Rowing     - 890 \n",
            "4] Gymnastics - 820 \n",
            "5] Fencing    - 552\n",
            "-------------------------------------------------------------------------\n",
            "Plot of Top 5 Sports having most no. of Gold Medals is as Follows:\n",
            "-------------------------------------------------------------------------\n"
          ]
        },
        {
          "output_type": "execute_result",
          "data": {
            "text/plain": [
              "<matplotlib.axes._subplots.AxesSubplot at 0x7f73f35f1f10>"
            ]
          },
          "metadata": {},
          "execution_count": 12
        },
        {
          "output_type": "display_data",
          "data": {
            "image/png": "[encoded data removed]",
            "text/plain": [
              "<Figure size 720x360 with 1 Axes>"
            ]
          },
          "metadata": {
            "needs_background": "light"
          }
        }
      ]
    },
    {
      "cell_type": "markdown",
      "metadata": {
        "id": "iNbqvvMXavR9"
      },
      "source": [
        "##**3. Which sport is having most number of medals so far? (Top 5)**"
      ]
    },
    {
      "cell_type": "code",
      "metadata": {
        "colab": {
          "base_uri": "https://localhost:8080/",
          "height": 1000
        },
        "id": "sdElRyJ9Znw-",
        "outputId": "491e5a1d-b8e8-409c-b9ef-11477c93df0e"
      },
      "source": [
        "most_medals = df.groupby('Sport').count()['Medal']\n",
        "print(\"-------------------------------------------------------------------------\")\n",
        "print(\"Sports having Total no. of Medals they have won is as follows :\")\n",
        "print(\"-------------------------------------------------------------------------\")\n",
        "most = most_medals.sort_values(ascending = False)\n",
        "print(most)\n",
        "\n",
        "print(\"\\n-------------------------------------------------------------------------\")\n",
        "print(\" 'Aquatics' Sport is having most no. Medals so far.\")\n",
        "print(\"-------------------------------------------------------------------------\")\n",
        "print(\"Top 5 Sports having most no. Medals are :\\n \\n1] Aquatics   - 4170 \\n2] Athletics  - 3638  \\n3] Rowing     - 2667 \\n4] Gymnastics - 2307 \\n5] Fencing    - 1613\")\n",
        "print(\"-------------------------------------------------------------------------\")\n",
        "print(\"Plot of Top 5 Sports having most no. of Medals is as Follows:\")\n",
        "print(\"-------------------------------------------------------------------------\")\n",
        "mosts = most_medals.sort_values(ascending = False).head()\n",
        "mosts.plot.bar(figsize =(10,5),color = 'green')"
      ],
      "execution_count": 13,
      "outputs": [
        {
          "output_type": "stream",
          "name": "stdout",
          "text": [
            "-------------------------------------------------------------------------\n",
            "Sports having Total no. of Medals they have won is as follows :\n",
            "-------------------------------------------------------------------------\n",
            "Sport\n",
            "Aquatics             4170\n",
            "Athletics            3638\n",
            "Rowing               2667\n",
            "Gymnastics           2307\n",
            "Fencing              1613\n",
            "Football             1497\n",
            "Hockey               1422\n",
            "Wrestling            1212\n",
            "Shooting             1150\n",
            "Sailing              1109\n",
            "Cycling              1105\n",
            "Basketball           1012\n",
            "Canoe / Kayak        1002\n",
            "Volleyball            994\n",
            "Handball              973\n",
            "Equestrian            939\n",
            "Boxing                894\n",
            "Weightlifting         593\n",
            "Judo                  491\n",
            "Baseball              335\n",
            "Archery               329\n",
            "Tennis                296\n",
            "Rugby                 192\n",
            "Modern Pentathlon     180\n",
            "Softball              180\n",
            "Table Tennis          144\n",
            "Badminton             144\n",
            "Taekwondo             112\n",
            "Tug of War             94\n",
            "Canoe                  81\n",
            "Polo                   66\n",
            "Lacrosse               59\n",
            "Golf                   30\n",
            "Ice Hockey             27\n",
            "Skating                27\n",
            "Triathlon              24\n",
            "Cricket                24\n",
            "Rackets                10\n",
            "Croquet                 8\n",
            "Water Motorsports       5\n",
            "Basque Pelota           4\n",
            "Roque                   3\n",
            "Jeu de paume            3\n",
            "Name: Medal, dtype: int64\n",
            "\n",
            "-------------------------------------------------------------------------\n",
            " 'Aquatics' Sport is having most no. Medals so far.\n",
            "-------------------------------------------------------------------------\n",
            "Top 5 Sports having most no. Medals are :\n",
            " \n",
            "1] Aquatics   - 4170 \n",
            "2] Athletics  - 3638  \n",
            "3] Rowing     - 2667 \n",
            "4] Gymnastics - 2307 \n",
            "5] Fencing    - 1613\n",
            "-------------------------------------------------------------------------\n",
            "Plot of Top 5 Sports having most no. of Medals is as Follows:\n",
            "-------------------------------------------------------------------------\n"
          ]
        },
        {
          "output_type": "execute_result",
          "data": {
            "text/plain": [
              "<matplotlib.axes._subplots.AxesSubplot at 0x7f73f356bc10>"
            ]
          },
          "metadata": {},
          "execution_count": 13
        },
        {
          "output_type": "display_data",
          "data": {
            "image/png": "[encoded data removed]",
            "text/plain": [
              "<Figure size 720x360 with 1 Axes>"
            ]
          },
          "metadata": {
            "needs_background": "light"
          }
        }
      ]
    },
    {
      "cell_type": "markdown",
      "metadata": {
        "id": "yBcuoZf7bctO"
      },
      "source": [
        "##**4. Which player has won most number of medals? (Top 5)**"
      ]
    },
    {
      "cell_type": "code",
      "metadata": {
        "colab": {
          "base_uri": "https://localhost:8080/",
          "height": 1000
        },
        "id": "d-ikqNbybHVM",
        "outputId": "a11c615e-226d-45a5-c9c6-e78a874cfe22"
      },
      "source": [
        "player_medals = df.groupby('Athlete').count()['Medal']\n",
        "print(\"-------------------------------------------------------------------------\")\n",
        "print(\"Athletes having Total no. of Medals they have won is as follows :\")\n",
        "print(\"-------------------------------------------------------------------------\")\n",
        "all_medals = player_medals.sort_values(ascending = False).head(20)              \n",
        "print(all_medals)\n",
        "\n",
        "print(\"\\n-------------------------------------------------------------------------\")\n",
        "print(\" 'PHELPS, Michael' Player has won most no. of Medals - '22' \")\n",
        "print(\"-------------------------------------------------------------------------\")\n",
        "print(\"Top 5 Athletes having most no. Medals are :\\n \\n1] PHELPS, Michael      - 22 \\n2] LATYNINA, Larisa     - 18  \\n3] ANDRIANOV, Nikolay   - 15 \\n4] MANGIAROTTI, Edoardo - 13 \\n5] SHAKHLIN, Boris      - 13\")\n",
        "print(\"-------------------------------------------------------------------------\")\n",
        "print(\"Plot of Top 5 Athletes having most no. of Medals is as Follows:\")\n",
        "print(\"-------------------------------------------------------------------------\")\n",
        "mostss = player_medals.sort_values(ascending = False).head()\n",
        "mostss.plot.bar(figsize =(10,5),color = 'green')"
      ],
      "execution_count": 23,
      "outputs": [
        {
          "output_type": "stream",
          "name": "stdout",
          "text": [
            "-------------------------------------------------------------------------\n",
            "Athletes having Total no. of Medals they have won is as follows :\n",
            "-------------------------------------------------------------------------\n",
            "Athlete\n",
            "PHELPS, Michael               22\n",
            "LATYNINA, Larisa              18\n",
            "ANDRIANOV, Nikolay            15\n",
            "MANGIAROTTI, Edoardo          13\n",
            "SHAKHLIN, Boris               13\n",
            "ONO, Takashi                  13\n",
            "FISCHER, Birgit               12\n",
            "COUGHLIN, Natalie             12\n",
            "NEMOV, Alexei                 12\n",
            "TORRES, Dara                  12\n",
            "THOMPSON, Jenny               12\n",
            "KATO, Sawao                   12\n",
            "NURMI, Paavo                  12\n",
            "CASLAVSKA, Vera               11\n",
            "OSBURN, Carl Townsend         11\n",
            "LOCHTE, Ryan                  11\n",
            "SPITZ, Mark                   11\n",
            "CHUKARIN, Viktor Ivanovich    11\n",
            "BIONDI, Matthew               11\n",
            "KELETI, Agnes                 10\n",
            "Name: Medal, dtype: int64\n",
            "\n",
            "-------------------------------------------------------------------------\n",
            " 'PHELPS, Michael' Player has won most no. of Medals - '22' \n",
            "-------------------------------------------------------------------------\n",
            "Top 5 Athletes having most no. Medals are :\n",
            " \n",
            "1] PHELPS, Michael      - 22 \n",
            "2] LATYNINA, Larisa     - 18  \n",
            "3] ANDRIANOV, Nikolay   - 15 \n",
            "4] MANGIAROTTI, Edoardo - 13 \n",
            "5] SHAKHLIN, Boris      - 13\n",
            "-------------------------------------------------------------------------\n",
            "Plot of Top 5 Athletes having most no. of Medals is as Follows:\n",
            "-------------------------------------------------------------------------\n"
          ]
        },
        {
          "output_type": "execute_result",
          "data": {
            "text/plain": [
              "<matplotlib.axes._subplots.AxesSubplot at 0x7f73f3664690>"
            ]
          },
          "metadata": {},
          "execution_count": 23
        },
        {
          "output_type": "display_data",
          "data": {
            "image/png": "[encoded data removed]",
            "text/plain": [
              "<Figure size 720x360 with 1 Axes>"
            ]
          },
          "metadata": {
            "needs_background": "light"
          }
        }
      ]
    },
    {
      "cell_type": "markdown",
      "metadata": {
        "id": "ezZL_JJ8b7z9"
      },
      "source": [
        "##**5. Which player has won most number Gold Medals of medals? (Top 5)**"
      ]
    },
    {
      "cell_type": "code",
      "metadata": {
        "colab": {
          "base_uri": "https://localhost:8080/",
          "height": 1000
        },
        "id": "biFl4aK4b1Cv",
        "outputId": "63dfbbb0-ad84-4940-f948-a72fdceaffad"
      },
      "source": [
        "gold_medal = df[df['Medal'] == 'Gold']\n",
        "player_medals = gold_medal.groupby('Athlete').count()['Medal']\n",
        "print(\"-------------------------------------------------------------------------\")\n",
        "print(\"Athletes having Total no. of Gold Medals they have won is as follows :\")\n",
        "print(\"-------------------------------------------------------------------------\")\n",
        "all_medals = player_medals.sort_values(ascending = False).head(20)              #To know the medals of all athletes remove 20 from \"head(20)\"\n",
        "print(all_medals)\n",
        "\n",
        "print(\"\\n-------------------------------------------------------------------------\")\n",
        "print(\" 'PHELPS, Michael' has won most no. of Gold Medals - '18' \")\n",
        "print(\"-------------------------------------------------------------------------\")\n",
        "print(\"Top 5 Athletes having most no. Gold Medals are :\\n \\n1] PHELPS, Michael  - 18 \\n2] NURMI, Paavo     - 9  \\n3] SPITZ, Mark      - 9 \\n4] LEWIS, Carl      - 9 \\n5] LATYNINA, Larisa - 9\")\n",
        "print(\"-------------------------------------------------------------------------\")\n",
        "print(\"Plot of Top 5 Athletes having most no. of Gold Medals is as Follows:\")\n",
        "print(\"-------------------------------------------------------------------------\")\n",
        "mostss = player_medals.sort_values(ascending = False).head()\n",
        "mostss.plot.bar(figsize =(10,5),color = 'green')"
      ],
      "execution_count": 17,
      "outputs": [
        {
          "output_type": "stream",
          "name": "stdout",
          "text": [
            "-------------------------------------------------------------------------\n",
            "Athletes having Total no. of Gold Medals they have won is as follows :\n",
            "-------------------------------------------------------------------------\n",
            "Athlete\n",
            "PHELPS, Michael               18\n",
            "NURMI, Paavo                   9\n",
            "SPITZ, Mark                    9\n",
            "LEWIS, Carl                    9\n",
            "LATYNINA, Larisa               9\n",
            "FISCHER, Birgit                8\n",
            "BIONDI, Matthew                8\n",
            "THOMPSON, Jenny                8\n",
            "EWRY, Ray                      8\n",
            "KATO, Sawao                    8\n",
            "ANDRIANOV, Nikolay             7\n",
            "SHAKHLIN, Boris                7\n",
            "CHUKARIN, Viktor Ivanovich     7\n",
            "CASLAVSKA, Vera                7\n",
            "GEREVICH, Aladar               7\n",
            "KARPATI, Rudolf                6\n",
            "NADI, Nedo                     6\n",
            "HOY, Chris                     6\n",
            "VAN INNIS, Hubert              6\n",
            "MANGIAROTTI, Edoardo           6\n",
            "Name: Medal, dtype: int64\n",
            "\n",
            "-------------------------------------------------------------------------\n",
            " 'PHELPS, Michael' has won most no. of Gold Medals - '18' \n",
            "-------------------------------------------------------------------------\n",
            "Top 5 Athletes having most no. Gold Medals are :\n",
            " \n",
            "1] PHELPS, Michael  - 18 \n",
            "2] NURMI, Paavo     - 9  \n",
            "3] SPITZ, Mark      - 9 \n",
            "4] LEWIS, Carl      - 9 \n",
            "5] LATYNINA, Larisa - 9\n",
            "-------------------------------------------------------------------------\n",
            "Plot of Top 5 Athletes having most no. of Gold Medals is as Follows:\n",
            "-------------------------------------------------------------------------\n"
          ]
        },
        {
          "output_type": "execute_result",
          "data": {
            "text/plain": [
              "<matplotlib.axes._subplots.AxesSubplot at 0x7f73f33552d0>"
            ]
          },
          "metadata": {},
          "execution_count": 17
        },
        {
          "output_type": "display_data",
          "data": {
            "image/png": "[encoded data removed]",
            "text/plain": [
              "<Figure size 720x360 with 1 Axes>"
            ]
          },
          "metadata": {
            "needs_background": "light"
          }
        }
      ]
    },
    {
      "cell_type": "markdown",
      "metadata": {
        "id": "85IDCYYlcccQ"
      },
      "source": [
        "##**6. In which year India won first Gold Medal in Summer Olympics?**"
      ]
    },
    {
      "cell_type": "code",
      "metadata": {
        "colab": {
          "base_uri": "https://localhost:8080/"
        },
        "id": "bqNfQ7JacI5q",
        "outputId": "04d31e69-d3d6-4749-fcfe-d72692dfeb1e"
      },
      "source": [
        "Years = []\n",
        "\n",
        "gold_medal = df[df['Medal'] == 'Gold']\n",
        "Ind_yr = gold_medal[gold_medal['Country'] =='IND']\n",
        "Years.append(Ind_yr['Year'].unique())\n",
        "print(\"-------------------------------------------------------------------------\")\n",
        "print(\"All years in which India won Gold Medal are :\")\n",
        "print(\"---------------------------------------------\\n\")\n",
        "print(Years)\n",
        "print(\"-------------------------------------------------------------------------\")\n",
        "\n",
        "India_yr = gold_medal[gold_medal['Country'] =='IND']['Year'].min()\n",
        "Ind_year = str(India_yr)\n",
        "print(\"\\n-------------------------------------------------------------------------\")\n",
        "print(\"In \"+ '\"' + Ind_year + '\"' + \" India won First Gold Medal in Summer Olympics\")\n",
        "print(\"-------------------------------------------------------------------------\")"
      ],
      "execution_count": 19,
      "outputs": [
        {
          "output_type": "stream",
          "name": "stdout",
          "text": [
            "-------------------------------------------------------------------------\n",
            "All years in which India won Gold Medal are :\n",
            "---------------------------------------------\n",
            "\n",
            "[array([1928, 1932, 1936, 1948, 1952, 1956, 1964, 1980, 2008])]\n",
            "-------------------------------------------------------------------------\n",
            "\n",
            "-------------------------------------------------------------------------\n",
            "In \"1928\" India won First Gold Medal in Summer Olympics\n",
            "-------------------------------------------------------------------------\n"
          ]
        }
      ]
    },
    {
      "cell_type": "markdown",
      "metadata": {
        "id": "SOneBpcwc_Bs"
      },
      "source": [
        "##**7. Which event is most popular in terms on number of players?**"
      ]
    },
    {
      "cell_type": "code",
      "metadata": {
        "colab": {
          "base_uri": "https://localhost:8080/",
          "height": 1000
        },
        "id": "8fODebPncnYA",
        "outputId": "962441cf-a168-4741-f304-772bfcf69c2a"
      },
      "source": [
        "data = []\n",
        "for events in df['Event'].unique():\n",
        "  data.append([events,len(df[df['Event'] == events])])\n",
        "\n",
        "data = pd.DataFrame(data,columns = [\"Event\",\"No_of_players\"])\n",
        "data = data.sort_values(by = \"No_of_players\",ascending = False).head(20)        # To know the No.of Players of all Events remove 20 from .head(20)\n",
        "print(\"-------------------------------------------------------------------------\")\n",
        "print(\"Athletes having Total no. of Gold Medals they have won is as follows :\")\n",
        "print(\"-------------------------------------------------------------------------\")\n",
        "print(data)\n",
        "\n",
        "print(\"\\n-------------------------------------------------------------------------\")\n",
        "print(\" 'FOOTBALL' Event is most popular in terms of No. of Players - '1497' \")\n",
        "print(\"-------------------------------------------------------------------------\")\n",
        "print(\"Top 5 most Popular Events are :\\n \\n1] Football         - 1497 \\n2] Hockey           - 1422  \\n3] Team Competition - 1147 \\n4] Basketball       - 1012 \\n5] Handball         - 973\")\n",
        "print(\"-------------------------------------------------------------------------\")\n",
        "print(\"Plot of Top 5 most Popular Events are as Follows:\")\n",
        "print(\"-------------------------------------------------------------------------\")\n",
        "\n",
        "data = data.sort_values(by = \"No_of_players\",ascending = False).head(5)\n",
        "data.plot(x ='Event',y ='No_of_players',kind = 'bar',figsize =(10,5),color = 'green')"
      ],
      "execution_count": 20,
      "outputs": [
        {
          "output_type": "stream",
          "name": "stdout",
          "text": [
            "-------------------------------------------------------------------------\n",
            "Athletes having Total no. of Gold Medals they have won is as follows :\n",
            "-------------------------------------------------------------------------\n",
            "                                   Event  No_of_players\n",
            "80                              Football           1497\n",
            "176                               Hockey           1422\n",
            "138                     Team Competition           1147\n",
            "327                           Basketball           1012\n",
            "337                             Handball            973\n",
            "50                            Water Polo            958\n",
            "391                           Volleyball            934\n",
            "83              Eight With Coxswain (8+)            918\n",
            "134                                 Team            908\n",
            "213                         4X100M Relay            533\n",
            "132                            Foil Team            505\n",
            "160                         4X400M Relay            451\n",
            "209               4X100M Freestyle Relay            438\n",
            "381                  4X100M Medley Relay            387\n",
            "174                            Épée Team            385\n",
            "175                           Sabre Team            382\n",
            "152               4X200M Freestyle Relay            380\n",
            "84   Four-Oared Shell With Coxswain (4-)            359\n",
            "466                             Baseball            335\n",
            "74                            Individual            324\n",
            "\n",
            "-------------------------------------------------------------------------\n",
            " 'FOOTBALL' Event is most popular in terms of No. of Players - '1497' \n",
            "-------------------------------------------------------------------------\n",
            "Top 5 most Popular Events are :\n",
            " \n",
            "1] Football         - 1497 \n",
            "2] Hockey           - 1422  \n",
            "3] Team Competition - 1147 \n",
            "4] Basketball       - 1012 \n",
            "5] Handball         - 973\n",
            "-------------------------------------------------------------------------\n",
            "Plot of Top 5 most Popular Events are as Follows:\n",
            "-------------------------------------------------------------------------\n"
          ]
        },
        {
          "output_type": "execute_result",
          "data": {
            "text/plain": [
              "<matplotlib.axes._subplots.AxesSubplot at 0x7f73f334e290>"
            ]
          },
          "metadata": {},
          "execution_count": 20
        },
        {
          "output_type": "display_data",
          "data": {
            "image/png": "[encoded data removed]",
            "text/plain": [
              "<Figure size 720x360 with 1 Axes>"
            ]
          },
          "metadata": {
            "needs_background": "light"
          }
        }
      ]
    },
    {
      "cell_type": "markdown",
      "metadata": {
        "id": "WHCkkUGFdRH4"
      },
      "source": [
        "##**8. Which sport is having most female Gold Medalists? (Top 5)**"
      ]
    },
    {
      "cell_type": "code",
      "metadata": {
        "colab": {
          "base_uri": "https://localhost:8080/",
          "height": 1000
        },
        "id": "qxZ4InoRdNw1",
        "outputId": "699e31d4-b16b-447a-b23e-588f2fab1c21"
      },
      "source": [
        "gold_medal = df[df['Medal'] == 'Gold']\n",
        "Female_Gold = gold_medal[gold_medal['Gender'] == 'Women']\n",
        "\n",
        "data = []\n",
        "for fem in Female_Gold['Sport'].unique():\n",
        "  data.append([fem, len(Female_Gold[Female_Gold['Sport'] == fem])])\n",
        "\n",
        "data = pd.DataFrame(data,columns = [\"Sport\",\"Female_Gold_Medalists\"])\n",
        "data = data.sort_values(by = \"Female_Gold_Medalists\",ascending = False).head(20)        # To know all Female Gold Medalists remove 20 from .head(20)\n",
        "print(\"-------------------------------------------------------------------------\")\n",
        "print(\"Sports having most No. of Female Gold Medalists are as follows :\")\n",
        "print(\"-------------------------------------------------------------------------\")\n",
        "print(data)\n",
        "\n",
        "print(\"\\n-------------------------------------------------------------------------\")\n",
        "print(\" 'Aquatics' Sport is having most no. of Female Gold Medalists - '589' \")\n",
        "print(\"-------------------------------------------------------------------------\")\n",
        "print(\"Top 5 Sports have most Female Gold Medalists are :\\n \\n1] Aquatics   - 589 \\n2] Athletics  - 389 \\n3] Gymnastics - 268 \\n4] Rowing     - 217 \\n5] Volleyball - 166\")\n",
        "print(\"-------------------------------------------------------------------------\")\n",
        "print(\"Plot of Top 5 Sports having most no. of Female Gold Medalists are as Follows:\")\n",
        "print(\"-------------------------------------------------------------------------\")\n",
        "\n",
        "data = data.sort_values(by = \"Female_Gold_Medalists\",ascending = False).head(5)\n",
        "data.plot(x ='Sport',y ='Female_Gold_Medalists',kind = 'bar',figsize =(10,5),color = 'green')"
      ],
      "execution_count": 22,
      "outputs": [
        {
          "output_type": "stream",
          "name": "stdout",
          "text": [
            "-------------------------------------------------------------------------\n",
            "Sports having most No. of Female Gold Medalists are as follows :\n",
            "-------------------------------------------------------------------------\n",
            "            Sport  Female_Gold_Medalists\n",
            "4        Aquatics                    589\n",
            "7       Athletics                    389\n",
            "8      Gymnastics                    268\n",
            "14         Rowing                    217\n",
            "11     Volleyball                    166\n",
            "15         Hockey                    144\n",
            "13       Handball                    142\n",
            "12     Basketball                    120\n",
            "6         Fencing                    108\n",
            "21       Football                     86\n",
            "9   Canoe / Kayak                     76\n",
            "22       Softball                     60\n",
            "10     Equestrian                     51\n",
            "16        Cycling                     45\n",
            "17       Shooting                     43\n",
            "20           Judo                     42\n",
            "2         Archery                     39\n",
            "5         Sailing                     38\n",
            "1          Tennis                     38\n",
            "26  Weightlifting                     28\n",
            "\n",
            "-------------------------------------------------------------------------\n",
            " 'Aquatics' Sport is having most no. of Female Gold Medalists - '589' \n",
            "-------------------------------------------------------------------------\n",
            "Top 5 Sports have most Female Gold Medalists are :\n",
            " \n",
            "1] Aquatics   - 589 \n",
            "2] Athletics  - 389 \n",
            "3] Gymnastics - 268 \n",
            "4] Rowing     - 217 \n",
            "5] Volleyball - 166\n",
            "-------------------------------------------------------------------------\n",
            "Plot of Top 5 Sports having most no. of Female Gold Medalists are as Follows:\n",
            "-------------------------------------------------------------------------\n"
          ]
        },
        {
          "output_type": "execute_result",
          "data": {
            "text/plain": [
              "<matplotlib.axes._subplots.AxesSubplot at 0x7f73f3c45310>"
            ]
          },
          "metadata": {},
          "execution_count": 22
        },
        {
          "output_type": "display_data",
          "data": {
            "image/png": "[encoded data removed]",
            "text/plain": [
              "<Figure size 720x360 with 1 Axes>"
            ]
          },
          "metadata": {
            "needs_background": "light"
          }
        }
      ]
    },
    {
      "cell_type": "code",
      "metadata": {
        "id": "KvlcNwhudhcG"
      },
      "source": [
        ""
      ],
      "execution_count": null,
      "outputs": []
    },
    {
      "cell_type": "code",
      "metadata": {
        "id": "73_0FD1Ud46q"
      },
      "source": [
        ""
      ],
      "execution_count": null,
      "outputs": []
    },
    {
      "cell_type": "code",
      "metadata": {
        "id": "bE1jFXJbd4n5"
      },
      "source": [
        ""
      ],
      "execution_count": null,
      "outputs": []
    },
    {
      "cell_type": "code",
      "metadata": {
        "id": "CySJB2uad4kQ"
      },
      "source": [
        ""
      ],
      "execution_count": null,
      "outputs": []
    }
  ]
}